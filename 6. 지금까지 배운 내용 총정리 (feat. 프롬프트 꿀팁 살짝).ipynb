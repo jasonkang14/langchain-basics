{
 "cells": [
  {
   "cell_type": "markdown",
   "metadata": {},
   "source": [
    "# 지금까지 배운 내용 총정리 (feat. 프롬프트 꿀팁 살짝)\n",
    "\n",
    "노트북에서는 지금까지 배운 LangChain의 주요 기능들을 활용하여 실용적인 예제를 만들어보겠습니다.\n",
    "또한, LLM을 더 효과적으로 사용하기 위한 프롬프트 작성 팁도 함께 알아보겠습니다.\n",
    "\n",
    "## 1. LLM 설정 (프롬프트 팁 1: Temperature 조절)\n",
    "\n",
    "Temperature를 0으로 설정하면 LLM이 더 일관된 답변을 제공합니다.\n"
   ]
  },
  {
   "cell_type": "code",
   "execution_count": 1,
   "metadata": {},
   "outputs": [],
   "source": [
    "from langchain_ollama import ChatOllama\n",
    "\n",
    "# Temperature를 0으로 설정하여 일관된 답변 유도\n",
    "llm = ChatOllama(\n",
    "    model=\"llama3.2:1b\",\n",
    "    temperature=0,\n",
    "    # other params...\n",
    ")"
   ]
  },
  {
   "cell_type": "markdown",
   "metadata": {},
   "source": [
    "## 2. 음식 추천 체인 구성 (프롬프트 팁 2: 명확한 출력 형식 지정)\n",
    "\n",
    "프롬프트에서 원하는 출력 형식을 명확하게 지정하면 더 정확한 응답을 얻을 수 있습니다.\n",
    "\n",
    "   "
   ]
  },
  {
   "cell_type": "code",
   "execution_count": 7,
   "metadata": {},
   "outputs": [],
   "source": [
    "# 음식 이름 찾기\n",
    "\n",
    "from langchain_core.output_parsers import StrOutputParser\n",
    "from langchain_core.prompts import PromptTemplate\n",
    "\n",
    "# 음식 이름만 반환하도록 명확하게 지시\n",
    "food_prompt = PromptTemplate(\n",
    "    template='''what is one of the most popular food in {country}? \n",
    "Please return the name of the food only''',\n",
    "    input_variables=['country']\n",
    ")\n",
    "\n",
    "# 음식 추천 체인 구성\n",
    "food_chain = food_prompt | llm | StrOutputParser()"
   ]
  },
  {
   "cell_type": "code",
   "execution_count": 8,
   "metadata": {},
   "outputs": [
    {
     "data": {
      "text/plain": [
       "'Bibimbap'"
      ]
     },
     "execution_count": 8,
     "metadata": {},
     "output_type": "execute_result"
    }
   ],
   "source": [
    "# 음식 추천 체인 실행\n",
    "food_chain.invoke({'country': 'South Korea'})"
   ]
  },
  {
   "cell_type": "markdown",
   "metadata": {},
   "source": [
    "## 3. 레시피 생성 체인 구성 (프롬프트 팁 3: 시스템 메시지 활용)\n",
    "\n",
    "시스템 메시지를 통해 LLM의 역할과 응답 형식을 명확하게 정의할 수 있습니다.\n",
    "  "
   ]
  },
  {
   "cell_type": "code",
   "execution_count": 15,
   "metadata": {},
   "outputs": [],
   "source": [
    "from langchain_core.prompts import ChatPromptTemplate\n",
    "\n",
    "# 시스템 메시지를 통해 레시피 형식 지정\n",
    "recipe_prompt = ChatPromptTemplate.from_messages([\n",
    "    ('system', '''Provide the recipe of the food that the user wants. \n",
    "Please return the recipe only as a numbered list without any explanation'''),\n",
    "    ('human', 'Can you give me the recipe for making {food}?')\n",
    "])\n",
    "\n",
    "# 레시피 생성 체인 구성\n",
    "recipe_chain = recipe_prompt | llm | StrOutputParser()"
   ]
  },
  {
   "cell_type": "code",
   "execution_count": 16,
   "metadata": {},
   "outputs": [
    {
     "data": {
      "text/plain": [
       "\"Here's a traditional Korean recipe for Bibimbap:\\n\\n1. Prepare the ingredients:\\n\\t* 8 oz. mixed vegetables (zucchini, carrots, bean sprouts)\\n\\t* 1 cup cooked white rice\\n\\t* 2 eggs, fried or poached\\n\\t* 1/4 cup chopped green onions\\n\\t* 1/4 cup toasted sesame seeds\\n\\t* 1/4 cup diced cucumber\\n\\t* 1/4 cup diced zucchini\\n\\t* 2 tbsp. soy sauce\\n\\t* 1 tbsp. Gochujang (Korean chili paste)\\n\\t* 1 tsp. sugar\\n\\t* Salt and pepper to taste\\n\\t* Vegetable oil for frying\\n\\n2. Cook the rice:\\n\\t* Rinse the rice thoroughly and cook according to package instructions.\\n\\n3. Prepare the vegetables:\\n\\t* Cut the mixed vegetables into bite-sized pieces.\\n\\t* Slice the cucumber and zucchini into thin rounds.\\n\\n4. Fry the eggs:\\n\\t* Heat a non-stick pan with 1-2 tbsp. vegetable oil over medium heat.\\n\\t* Crack an egg into the pan and cook until the whites are set, then flip and cook for another 30 seconds.\\n\\n5. Assemble the Bibimbap:\\n\\t* Divide the cooked rice onto four plates.\\n\\t* Arrange a scoop of rice in the center of each plate.\\n\\t* Add a few pieces of mixed vegetables on top of the rice.\\n\\t* Place a fried or poached egg on top of the vegetables.\\n\\t* Drizzle soy sauce and Gochujang over the egg.\\n\\n6. Garnish with green onions, sesame seeds, and cucumber:\\n\\t* Sprinkle chopped green onions, toasted sesame seeds, and diced cucumber around the plate.\\n\\n7. Serve immediately:\\n\\t* Serve Bibimbap hot, garnished with additional green onions if desired.\\n\\nNote: Traditionally, Bibimbap is served with a variety of toppings such as kimchi, boiled egg, and pickled ginger. Feel free to customize your dish to your liking!\""
      ]
     },
     "execution_count": 16,
     "metadata": {},
     "output_type": "execute_result"
    }
   ],
   "source": [
    "# 레시피 생성 체인 실행\n",
    "recipe_chain.invoke({'food': 'bibimbap'})"
   ]
  },
  {
   "cell_type": "markdown",
   "metadata": {},
   "source": [
    "## 4. 최종 체인 구성 (프롬프트 팁 4: 체인 연결을 통한 복잡한 작업 처리)\n",
    "\n",
    "여러 체인을 연결하여 복잡한 작업을 단계별로 처리할 수 있습니다.\n"
   ]
  },
  {
   "cell_type": "code",
   "execution_count": 17,
   "metadata": {},
   "outputs": [],
   "source": [
    "# 음식 추천과 레시피 생성을 연결한 최종 체인 구성\n",
    "final_chain = {'food': food_chain} | recipe_chain"
   ]
  },
  {
   "cell_type": "code",
   "execution_count": 18,
   "metadata": {},
   "outputs": [
    {
     "data": {
      "text/plain": [
       "'Here is a classic recipe for croissants:\\n\\n1. **Dough:**\\n\\t1. 1 1/2 cups warm milk (105°F to 115°F)\\n\\t2. 1/4 cup granulated sugar\\n\\t3. 2 teaspoons active dry yeast\\n\\t4. 3 1/2 cups all-purpose flour\\n\\t5. 1 teaspoon salt\\n\\t6. 1/4 cup unsalted butter, melted\\n7. 1 egg, beaten (for egg wash)\\n\\n8. **Laminating the dough:**\\n\\t1. In a small bowl, combine warm milk and sugar. Sprinkle yeast over the top and let it sit for 5-10 minutes, until frothy.\\n\\t2. In a large mixing bowl, combine flour, salt, and melted butter. Mix until a shaggy dough forms.\\n\\t3. Add yeast mixture to the dough and mix until a smooth, elastic dough forms.\\n\\t4. Knead the dough for 10-12 minutes, until it becomes smooth and elastic.\\n\\t5. Place the dough in a lightly oiled bowl, cover with plastic wrap, and let it rise in a warm place for 1 hour, or until doubled in size.\\n\\n6. **Rolling out the dough:**\\n\\t1. Punch down the dough and roll it out into a large rectangle, about 1/4-inch thick.\\n7. **Filling and folding:**\\n\\t1. Spread the softened butter evenly over the center of the dough, leaving a 1-inch border on either side.\\n8. Fold the dough in half lengthwise, like a letter.\\n9. Rotate the dough 90 degrees, so that the folded edge is facing you.\\n10. Roll out the dough into a large rectangle again, about 1/4-inch thick.\\n\\n11. **Cutting and folding:**\\n\\t1. Cut the dough into long, thin triangles.\\n12. Cut each triangle in half, so that you have a total of 16-20 triangles.\\n13. Roll each triangle into a croissant shape, curling the ends towards each other.\\n14. Place the croissants on a parchment-lined baking sheet, leaving about 1 inch of space between each one.\\n\\n15. **Egg wash and baking:**\\n\\t1. Brush the tops of the croissants with beaten egg for a golden glaze.\\n16. Bake in a preheated oven at 400°F (200°C) for 20-25 minutes, or until golden brown.\\n\\n17. **Cooling:**\\n\\t1. Allow the croissants to cool on a wire rack for at least 30 minutes before serving.'"
      ]
     },
     "execution_count": 18,
     "metadata": {},
     "output_type": "execute_result"
    }
   ],
   "source": [
    "# 국가 입력으로 대표 음식을 찾고, 해당 음식의 레시피까지 자동으로 생성\n",
    "final_chain.invoke({'country': 'France'})\n"
   ]
  },
  {
   "cell_type": "code",
   "execution_count": null,
   "metadata": {},
   "outputs": [],
   "source": []
  }
 ],
 "metadata": {
  "kernelspec": {
   "display_name": "langchain-basics",
   "language": "python",
   "name": "python3"
  },
  "language_info": {
   "codemirror_mode": {
    "name": "ipython",
    "version": 3
   },
   "file_extension": ".py",
   "mimetype": "text/x-python",
   "name": "python",
   "nbconvert_exporter": "python",
   "pygments_lexer": "ipython3",
   "version": "3.13.1"
  }
 },
 "nbformat": 4,
 "nbformat_minor": 2
}
