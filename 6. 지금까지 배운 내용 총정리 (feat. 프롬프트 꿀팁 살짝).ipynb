{
 "cells": [
  {
   "cell_type": "code",
   "execution_count": 1,
   "metadata": {},
   "outputs": [],
   "source": [
    "from langchain_ollama import ChatOllama\n",
    "\n",
    "llm = ChatOllama(\n",
    "    model=\"llama3.2:1b\",\n",
    "    temperature=0,\n",
    "    # other params...\n",
    ")"
   ]
  },
  {
   "cell_type": "code",
   "execution_count": 7,
   "metadata": {},
   "outputs": [],
   "source": [
    "# 음식 이름 찾기\n",
    "\n",
    "from langchain_core.output_parsers import StrOutputParser\n",
    "from langchain_core.prompts import PromptTemplate\n",
    "\n",
    "food_prompt = PromptTemplate(\n",
    "    template='''what is one of the most popular food in {country}? \n",
    "Please return the name of the food only''',\n",
    "    input_variables=['country']\n",
    ")\n",
    "\n",
    "food_chain = food_prompt | llm | StrOutputParser()"
   ]
  },
  {
   "cell_type": "code",
   "execution_count": null,
   "metadata": {},
   "outputs": [],
   "source": []
  },
  {
   "cell_type": "code",
   "execution_count": 8,
   "metadata": {},
   "outputs": [
    {
     "data": {
      "text/plain": [
       "'Bibimbap'"
      ]
     },
     "execution_count": 8,
     "metadata": {},
     "output_type": "execute_result"
    }
   ],
   "source": [
    "food_chain.invoke({'country': 'South Korea'})"
   ]
  },
  {
   "cell_type": "code",
   "execution_count": 15,
   "metadata": {},
   "outputs": [],
   "source": [
    "from langchain_core.prompts import ChatPromptTemplate\n",
    "\n",
    "recipe_prompt = ChatPromptTemplate.from_messages([\n",
    "    ('system', '''Provide the recipe of the food that the user wants. \n",
    "Please return the recipe only as a numbered list without any explanation'''),\n",
    "    ('human', 'Can you give me the recipe for making {food}?')\n",
    "])\n",
    "\n",
    "recipe_chain = recipe_prompt | llm | StrOutputParser()"
   ]
  },
  {
   "cell_type": "code",
   "execution_count": 16,
   "metadata": {},
   "outputs": [
    {
     "data": {
      "text/plain": [
       "\"Here's a traditional Korean recipe for Bibimbap:\\n\\n1. Prepare the ingredients:\\n\\t* 8 oz. mixed vegetables (zucchini, carrots, bean sprouts)\\n\\t* 1 cup cooked white rice\\n\\t* 2 eggs, fried or poached\\n\\t* 1/4 cup chopped green onions\\n\\t* 1/4 cup toasted sesame seeds\\n\\t* 1/4 cup diced cucumber\\n\\t* 1/4 cup diced zucchini\\n\\t* 2 tbsp. soy sauce\\n\\t* 1 tbsp. Gochujang (Korean chili paste)\\n\\t* 1 tsp. sugar\\n\\t* Salt and pepper to taste\\n\\t* Vegetable oil for frying\\n\\n2. Cook the rice:\\n\\t* Rinse the rice thoroughly and cook according to package instructions.\\n\\n3. Prepare the vegetables:\\n\\t* Cut the mixed vegetables into bite-sized pieces.\\n\\t* Slice the cucumber and zucchini into thin rounds.\\n\\n4. Fry the eggs:\\n\\t* Heat a non-stick pan with 1-2 tbsp. vegetable oil over medium heat.\\n\\t* Crack an egg into the pan and cook until the whites are set, then flip and cook for another 30 seconds.\\n\\n5. Assemble the Bibimbap:\\n\\t* Divide the cooked rice onto four plates.\\n\\t* Arrange a scoop of rice in the center of each plate.\\n\\t* Add a few pieces of mixed vegetables on top of the rice.\\n\\t* Place a fried or poached egg on top of the vegetables.\\n\\t* Drizzle soy sauce and Gochujang over the egg.\\n\\n6. Garnish with green onions, sesame seeds, and cucumber:\\n\\t* Sprinkle chopped green onions, toasted sesame seeds, and diced cucumber around the plate.\\n\\n7. Serve immediately:\\n\\t* Serve Bibimbap hot, garnished with additional green onions if desired.\\n\\nNote: Traditionally, Bibimbap is served with a variety of toppings such as kimchi, boiled egg, and pickled ginger. Feel free to customize your dish to your liking!\""
      ]
     },
     "execution_count": 16,
     "metadata": {},
     "output_type": "execute_result"
    }
   ],
   "source": [
    "recipe_chain.invoke({'food': 'bibimbap'})"
   ]
  },
  {
   "cell_type": "code",
   "execution_count": 17,
   "metadata": {},
   "outputs": [],
   "source": [
    "final_chain = {'food': food_chain} | recipe_chain"
   ]
  },
  {
   "cell_type": "code",
   "execution_count": 18,
   "metadata": {},
   "outputs": [
    {
     "data": {
      "text/plain": [
       "'Here is a classic recipe for croissants:\\n\\n1. **Dough:**\\n\\t1. 1 1/2 cups warm milk (105°F to 115°F)\\n\\t2. 1/4 cup granulated sugar\\n\\t3. 2 teaspoons active dry yeast\\n\\t4. 3 1/2 cups all-purpose flour\\n\\t5. 1 teaspoon salt\\n\\t6. 1/4 cup unsalted butter, melted\\n7. 1 egg, beaten (for egg wash)\\n\\n8. **Laminating the dough:**\\n\\t1. In a small bowl, combine warm milk and sugar. Sprinkle yeast over the top and let it sit for 5-10 minutes, until frothy.\\n\\t2. In a large mixing bowl, combine flour, salt, and melted butter. Mix until a shaggy dough forms.\\n\\t3. Add yeast mixture to the dough and mix until a smooth, elastic dough forms.\\n\\t4. Knead the dough for 10-12 minutes, until it becomes smooth and elastic.\\n\\t5. Place the dough in a lightly oiled bowl, cover with plastic wrap, and let it rise in a warm place for 1 hour, or until doubled in size.\\n\\n6. **Rolling out the dough:**\\n\\t1. Punch down the dough and roll it out into a large rectangle, about 1/4-inch thick.\\n7. **Filling and folding:**\\n\\t1. Spread the softened butter evenly over the center of the dough, leaving a 1-inch border on either side.\\n8. Fold the dough in half lengthwise, like a letter.\\n9. Rotate the dough 90 degrees, so that the folded edge is facing you.\\n10. Roll out the dough into a large rectangle again, about 1/4-inch thick.\\n\\n11. **Cutting and folding:**\\n\\t1. Cut the dough into long, thin triangles.\\n12. Cut each triangle in half, so that you have a total of 16-20 triangles.\\n13. Roll each triangle into a croissant shape, curling the ends towards each other.\\n14. Place the croissants on a parchment-lined baking sheet, leaving about 1 inch of space between each one.\\n\\n15. **Egg wash and baking:**\\n\\t1. Brush the tops of the croissants with beaten egg for a golden glaze.\\n16. Bake in a preheated oven at 400°F (200°C) for 20-25 minutes, or until golden brown.\\n\\n17. **Cooling:**\\n\\t1. Allow the croissants to cool on a wire rack for at least 30 minutes before serving.'"
      ]
     },
     "execution_count": 18,
     "metadata": {},
     "output_type": "execute_result"
    }
   ],
   "source": [
    "final_chain.invoke({'country': 'France'})"
   ]
  },
  {
   "cell_type": "code",
   "execution_count": null,
   "metadata": {},
   "outputs": [],
   "source": []
  }
 ],
 "metadata": {
  "kernelspec": {
   "display_name": "langchain-basics",
   "language": "python",
   "name": "python3"
  },
  "language_info": {
   "codemirror_mode": {
    "name": "ipython",
    "version": 3
   },
   "file_extension": ".py",
   "mimetype": "text/x-python",
   "name": "python",
   "nbconvert_exporter": "python",
   "pygments_lexer": "ipython3",
   "version": "3.13.1"
  }
 },
 "nbformat": 4,
 "nbformat_minor": 2
}
